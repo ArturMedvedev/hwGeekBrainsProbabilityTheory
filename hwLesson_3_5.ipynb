{
 "cells": [
  {
   "cell_type": "markdown",
   "metadata": {},
   "source": [
    "Задание 5.\n",
    "Устройство состоит из трех деталей. Для первой детали вероятность выйти из строя в первый месяц равна 0.1,\n",
    "для второй - 0.2, для третьей - 0.25.\n",
    "Какова вероятность того, что в первый месяц выйдут из строя:\n",
    "а). все детали\n",
    "б). только две детали\n",
    "в). хотя бы одна"
   ]
  },
  {
   "cell_type": "markdown",
   "metadata": {},
   "source": [
    "Веротяность, что сломались все детали."
   ]
  },
  {
   "cell_type": "code",
   "execution_count": 1,
   "metadata": {},
   "outputs": [
    {
     "data": {
      "text/plain": [
       "0.005000000000000001"
      ]
     },
     "execution_count": 1,
     "metadata": {},
     "output_type": "execute_result"
    }
   ],
   "source": [
    "p1 = 0.1\n",
    "p2 = 0.2\n",
    "p3 = 0.25\n",
    "p_1 = p1 * p2 * p3\n",
    "p_1"
   ]
  },
  {
   "cell_type": "markdown",
   "metadata": {},
   "source": [
    "Веротяность, что сломались 2 детали из 3-х."
   ]
  },
  {
   "cell_type": "markdown",
   "metadata": {},
   "source": [
    "Первый случай. 1-я и 2-я детали сломались, 3-я не сломалась."
   ]
  },
  {
   "cell_type": "code",
   "execution_count": 2,
   "metadata": {},
   "outputs": [
    {
     "data": {
      "text/plain": [
       "0.015000000000000003"
      ]
     },
     "execution_count": 2,
     "metadata": {},
     "output_type": "execute_result"
    }
   ],
   "source": [
    "p1 = 0.1\n",
    "p2 = 0.2\n",
    "p3 = (1 - 0.25)\n",
    "p_2 = p1 * p2 * p3\n",
    "p_2"
   ]
  },
  {
   "cell_type": "markdown",
   "metadata": {},
   "source": [
    "Второй случай. 1-я и 3-я детали сломались, 2-я не сломалась."
   ]
  },
  {
   "cell_type": "code",
   "execution_count": 3,
   "metadata": {},
   "outputs": [
    {
     "data": {
      "text/plain": [
       "0.020000000000000004"
      ]
     },
     "execution_count": 3,
     "metadata": {},
     "output_type": "execute_result"
    }
   ],
   "source": [
    "p1 = 0.1\n",
    "p2 = (1 - 0.2)\n",
    "p3 = 0.25\n",
    "p_3 = p1 * p2 * p3\n",
    "p_3"
   ]
  },
  {
   "cell_type": "markdown",
   "metadata": {},
   "source": [
    "Третий случай. 2-я и 3-я детали сломались, 1-я не сломалась."
   ]
  },
  {
   "cell_type": "code",
   "execution_count": 4,
   "metadata": {},
   "outputs": [
    {
     "data": {
      "text/plain": [
       "0.045000000000000005"
      ]
     },
     "execution_count": 4,
     "metadata": {},
     "output_type": "execute_result"
    }
   ],
   "source": [
    "p1 = (1 - 0.1)\n",
    "p2 = 0.2\n",
    "p3 = 0.25\n",
    "p_4 = p1 * p2 * p3\n",
    "p_4"
   ]
  },
  {
   "cell_type": "markdown",
   "metadata": {},
   "source": [
    "Вероятность, что сломались 2 детали из трех."
   ]
  },
  {
   "cell_type": "code",
   "execution_count": 6,
   "metadata": {},
   "outputs": [
    {
     "data": {
      "text/plain": [
       "0.08000000000000002"
      ]
     },
     "execution_count": 6,
     "metadata": {},
     "output_type": "execute_result"
    }
   ],
   "source": [
    "p_5 = p_2 + p_3 + p_4\n",
    "p_5"
   ]
  },
  {
   "cell_type": "markdown",
   "metadata": {},
   "source": [
    "Веротяность, что сломалась хотя бы одна деталь."
   ]
  },
  {
   "cell_type": "markdown",
   "metadata": {},
   "source": [
    "Включает в себя все предидущие случаи + 3 новых, где ломается 1 из 3-х деталей."
   ]
  },
  {
   "cell_type": "markdown",
   "metadata": {},
   "source": [
    "Вероятность, что сломалась только 1-я деталь."
   ]
  },
  {
   "cell_type": "code",
   "execution_count": 7,
   "metadata": {},
   "outputs": [
    {
     "data": {
      "text/plain": [
       "0.06000000000000001"
      ]
     },
     "execution_count": 7,
     "metadata": {},
     "output_type": "execute_result"
    }
   ],
   "source": [
    "p1 = 0.1\n",
    "p2 = (1 - 0.2)\n",
    "p3 = (1 - 0.25)\n",
    "p_6 = p1 * p2 * p3\n",
    "p_6"
   ]
  },
  {
   "cell_type": "markdown",
   "metadata": {},
   "source": [
    "Вероятность, что сломалась только 2-я деталь."
   ]
  },
  {
   "cell_type": "code",
   "execution_count": 8,
   "metadata": {},
   "outputs": [
    {
     "data": {
      "text/plain": [
       "0.135"
      ]
     },
     "execution_count": 8,
     "metadata": {},
     "output_type": "execute_result"
    }
   ],
   "source": [
    "p1 = (1 - 0.1)\n",
    "p2 = 0.2\n",
    "p3 = (1 - 0.25)\n",
    "p_7 = p1 * p2 * p3\n",
    "p_7"
   ]
  },
  {
   "cell_type": "markdown",
   "metadata": {},
   "source": [
    "Вероятность, что сломалась только 3-я деталь."
   ]
  },
  {
   "cell_type": "code",
   "execution_count": 9,
   "metadata": {},
   "outputs": [
    {
     "data": {
      "text/plain": [
       "0.18000000000000002"
      ]
     },
     "execution_count": 9,
     "metadata": {},
     "output_type": "execute_result"
    }
   ],
   "source": [
    "p1 = (1 - 0.1)\n",
    "p2 = (1 - 0.2)\n",
    "p3 = 0.25\n",
    "p_8 = p1 * p2 * p3\n",
    "p_8"
   ]
  },
  {
   "cell_type": "markdown",
   "metadata": {},
   "source": [
    "Вероятность, что сломалась хотя бы одна деталь."
   ]
  },
  {
   "cell_type": "code",
   "execution_count": 10,
   "metadata": {},
   "outputs": [
    {
     "data": {
      "text/plain": [
       "0.4600000000000001"
      ]
     },
     "execution_count": 10,
     "metadata": {},
     "output_type": "execute_result"
    }
   ],
   "source": [
    "p = p_1 + p_5 + p_6 + p_7 + p_8\n",
    "p"
   ]
  }
 ],
 "metadata": {
  "kernelspec": {
   "display_name": "Python 3",
   "language": "python",
   "name": "python3"
  },
  "language_info": {
   "codemirror_mode": {
    "name": "ipython",
    "version": 3
   },
   "file_extension": ".py",
   "mimetype": "text/x-python",
   "name": "python",
   "nbconvert_exporter": "python",
   "pygments_lexer": "ipython3",
   "version": "3.8.3"
  }
 },
 "nbformat": 4,
 "nbformat_minor": 4
}
