{
 "cells": [
  {
   "cell_type": "markdown",
   "metadata": {},
   "source": [
    "Задание 4.\n",
    "В университет на факультеты A и B поступило равное количество студентов,\n",
    "а на факультет C студентов поступило столько же, сколько на A и B вместе.\n",
    "Вероятность того, что студент факультета A сдаст первую сессию, равна 0.8.\n",
    "Для студента факультета B эта вероятность равна 0.7, а для студента факультета C - 0.9.\n",
    "Студент сдал первую сессию. Какова вероятность, что он учится:\n",
    "a). на факультете A\n",
    "б). на факультете B\n",
    "в). на факультете C?"
   ]
  },
  {
   "cell_type": "markdown",
   "metadata": {},
   "source": [
    "Исходя из условий задачи можно сделать вывод, что происходит 2 события:\n",
    "1-е - сессию сдает один студент с какого-то из 3-х факультетов,\n",
    "2-е - студент сдает сессию успешно."
   ]
  },
  {
   "cell_type": "markdown",
   "metadata": {},
   "source": [
    "Из условий задачи можно условно принять, что на факультете А учится доля студентов х,\n",
    "на факультете В учится доля студентов х, на факультете С учится доля студентов 2х.\n",
    "Примем кол-во всех студентов за единицу, тогда х + х + 2х = 1,\n",
    "т.е. 4х = 1, т.е. х = 1/4"
   ]
  },
  {
   "cell_type": "markdown",
   "metadata": {},
   "source": [
    "Веротяность, что сдающий сессию студент с факультета А."
   ]
  },
  {
   "cell_type": "code",
   "execution_count": 3,
   "metadata": {},
   "outputs": [],
   "source": [
    "p1 = 1 / 4"
   ]
  },
  {
   "cell_type": "markdown",
   "metadata": {},
   "source": [
    "Веротяность, что сдавший сессию студент с факультета А."
   ]
  },
  {
   "cell_type": "code",
   "execution_count": 4,
   "metadata": {},
   "outputs": [
    {
     "data": {
      "text/plain": [
       "0.2"
      ]
     },
     "execution_count": 4,
     "metadata": {},
     "output_type": "execute_result"
    }
   ],
   "source": [
    "p_1 = p1 * 0.8\n",
    "p_1"
   ]
  },
  {
   "cell_type": "markdown",
   "metadata": {},
   "source": [
    "Веротяность, что сдающий сессию студент с факультета В."
   ]
  },
  {
   "cell_type": "code",
   "execution_count": 5,
   "metadata": {},
   "outputs": [],
   "source": [
    "p2 = 1 / 4"
   ]
  },
  {
   "cell_type": "markdown",
   "metadata": {},
   "source": [
    "Веротяность, что сдавший сессию студент с факультета В."
   ]
  },
  {
   "cell_type": "code",
   "execution_count": 6,
   "metadata": {},
   "outputs": [
    {
     "data": {
      "text/plain": [
       "0.175"
      ]
     },
     "execution_count": 6,
     "metadata": {},
     "output_type": "execute_result"
    }
   ],
   "source": [
    "p_2 = p2 * 0.7\n",
    "p_2"
   ]
  },
  {
   "cell_type": "markdown",
   "metadata": {},
   "source": [
    "Веротяность, что сдающий сессию студент с факультета С."
   ]
  },
  {
   "cell_type": "code",
   "execution_count": 7,
   "metadata": {},
   "outputs": [],
   "source": [
    "p3 = 1 / 2"
   ]
  },
  {
   "cell_type": "markdown",
   "metadata": {},
   "source": [
    "Веротяность, что сдавший сессию студент с факультета С."
   ]
  },
  {
   "cell_type": "code",
   "execution_count": 8,
   "metadata": {},
   "outputs": [
    {
     "data": {
      "text/plain": [
       "0.45"
      ]
     },
     "execution_count": 8,
     "metadata": {},
     "output_type": "execute_result"
    }
   ],
   "source": [
    "p_3 = p3 * 0.9\n",
    "p_3"
   ]
  }
 ],
 "metadata": {
  "kernelspec": {
   "display_name": "Python 3",
   "language": "python",
   "name": "python3"
  },
  "language_info": {
   "codemirror_mode": {
    "name": "ipython",
    "version": 3
   },
   "file_extension": ".py",
   "mimetype": "text/x-python",
   "name": "python",
   "nbconvert_exporter": "python",
   "pygments_lexer": "ipython3",
   "version": "3.8.3"
  }
 },
 "nbformat": 4,
 "nbformat_minor": 4
}
