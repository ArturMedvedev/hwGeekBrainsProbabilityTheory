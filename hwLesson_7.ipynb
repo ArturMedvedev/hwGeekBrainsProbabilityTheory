{
 "cells": [
  {
   "cell_type": "markdown",
   "metadata": {},
   "source": [
    "Задание 1.\n",
    "Даны значения величины заработной платы заемщиков банка (zp) и значения их поведенческого кредитного скоринга (ks): zp = [35, 45, 190, 200, 40, 70, 54, 150, 120, 110], ks = [401, 574, 874, 919, 459, 739, 653, 902, 746, 832]. Используя математические операции, посчитать коэффициенты линейной регрессии, приняв за X заработную плату (то есть, zp - признак), а за y - значения скорингового балла (то есть, ks - целевая переменная). Произвести расчет как с использованием intercept, так и без."
   ]
  },
  {
   "cell_type": "code",
   "execution_count": 303,
   "metadata": {},
   "outputs": [],
   "source": [
    "import numpy as np\n",
    "import matplotlib.pyplot as plt\n",
    "%matplotlib inline"
   ]
  },
  {
   "cell_type": "code",
   "execution_count": 304,
   "metadata": {},
   "outputs": [],
   "source": [
    "def regression(x, y):\n",
    "    b = (np.mean(x * y) - np.mean(x) * np.mean(y)) / (np.mean(x**2) - np.mean(x)**2)\n",
    "    a = np.mean(y) - b * np.mean(x)\n",
    "    return a, b"
   ]
  },
  {
   "cell_type": "code",
   "execution_count": 305,
   "metadata": {},
   "outputs": [],
   "source": [
    "def middle_square_error(y, y_hat):\n",
    "    return ((y - y_hat)**2).sum() / len(y)"
   ]
  },
  {
   "cell_type": "code",
   "execution_count": 306,
   "metadata": {},
   "outputs": [],
   "source": [
    "zp = np.array([35, 45, 190, 200, 40, 70, 54, 150, 120, 110])\n",
    "ks = np.array([401, 574, 874, 919, 459, 739, 653, 902, 746, 832])"
   ]
  },
  {
   "cell_type": "code",
   "execution_count": 307,
   "metadata": {},
   "outputs": [],
   "source": [
    "a, b = regression(zp, ks)"
   ]
  },
  {
   "cell_type": "code",
   "execution_count": 308,
   "metadata": {},
   "outputs": [
    {
     "data": {
      "text/plain": [
       "444.1773573243596"
      ]
     },
     "execution_count": 308,
     "metadata": {},
     "output_type": "execute_result"
    }
   ],
   "source": [
    "a"
   ]
  },
  {
   "cell_type": "code",
   "execution_count": 309,
   "metadata": {},
   "outputs": [
    {
     "data": {
      "text/plain": [
       "2.620538882402765"
      ]
     },
     "execution_count": 309,
     "metadata": {},
     "output_type": "execute_result"
    }
   ],
   "source": [
    "b"
   ]
  },
  {
   "cell_type": "code",
   "execution_count": 310,
   "metadata": {},
   "outputs": [
    {
     "data": {
      "text/plain": [
       "array([536., 562., 942., 968., 549., 628., 586., 837., 759., 732.])"
      ]
     },
     "execution_count": 310,
     "metadata": {},
     "output_type": "execute_result"
    }
   ],
   "source": [
    "y_hat = np.round(a + b * zp)\n",
    "y_hat"
   ]
  },
  {
   "cell_type": "code",
   "execution_count": 311,
   "metadata": {},
   "outputs": [
    {
     "data": {
      "image/png": "[encoded data removed]",
      "text/plain": [
       "<Figure size 432x288 with 1 Axes>"
      ]
     },
     "metadata": {
      "needs_background": "light"
     },
     "output_type": "display_data"
    }
   ],
   "source": [
    "plt.scatter(zp, ks)\n",
    "plt.plot(zp, y_hat)\n",
    "plt.show()"
   ]
  },
  {
   "cell_type": "code",
   "execution_count": 312,
   "metadata": {},
   "outputs": [
    {
     "data": {
      "text/plain": [
       "6469.8"
      ]
     },
     "execution_count": 312,
     "metadata": {},
     "output_type": "execute_result"
    }
   ],
   "source": [
    "mse = middle_square_error(ks, y_hat)\n",
    "mse"
   ]
  },
  {
   "cell_type": "markdown",
   "metadata": {},
   "source": [
    "Без интерсепта."
   ]
  },
  {
   "cell_type": "code",
   "execution_count": 313,
   "metadata": {},
   "outputs": [],
   "source": [
    "def matrix_b(X, Y):\n",
    "    return np.dot(np.linalg.inv(np.dot(X.T, X)), X.T @ Y)"
   ]
  },
  {
   "cell_type": "code",
   "execution_count": 314,
   "metadata": {},
   "outputs": [
    {
     "data": {
      "text/plain": [
       "array([[ 35],\n",
       "       [ 45],\n",
       "       [190],\n",
       "       [200],\n",
       "       [ 40],\n",
       "       [ 70],\n",
       "       [ 54],\n",
       "       [150],\n",
       "       [120],\n",
       "       [110]])"
      ]
     },
     "execution_count": 314,
     "metadata": {},
     "output_type": "execute_result"
    }
   ],
   "source": [
    "X = zp.reshape(10, 1)\n",
    "X"
   ]
  },
  {
   "cell_type": "code",
   "execution_count": 315,
   "metadata": {},
   "outputs": [
    {
     "data": {
      "text/plain": [
       "array([[401],\n",
       "       [574],\n",
       "       [874],\n",
       "       [919],\n",
       "       [459],\n",
       "       [739],\n",
       "       [653],\n",
       "       [902],\n",
       "       [746],\n",
       "       [832]])"
      ]
     },
     "execution_count": 315,
     "metadata": {},
     "output_type": "execute_result"
    }
   ],
   "source": [
    "Y = ks.reshape(10, 1)\n",
    "Y"
   ]
  },
  {
   "cell_type": "code",
   "execution_count": 316,
   "metadata": {},
   "outputs": [
    {
     "data": {
      "text/plain": [
       "array([5.89])"
      ]
     },
     "execution_count": 316,
     "metadata": {},
     "output_type": "execute_result"
    }
   ],
   "source": [
    "b = np.round(matrix_b(X, Y), 2)[0]\n",
    "b"
   ]
  },
  {
   "cell_type": "code",
   "execution_count": 317,
   "metadata": {},
   "outputs": [
    {
     "data": {
      "text/plain": [
       "array([ 206.,  265., 1119., 1178.,  236.,  412.,  318.,  884.,  707.,\n",
       "        648.])"
      ]
     },
     "execution_count": 317,
     "metadata": {},
     "output_type": "execute_result"
    }
   ],
   "source": [
    "y_hat = np.round(b * zp)\n",
    "y_hat"
   ]
  },
  {
   "cell_type": "code",
   "execution_count": 318,
   "metadata": {},
   "outputs": [
    {
     "data": {
      "image/png": "[encoded data removed]",
      "text/plain": [
       "<Figure size 432x288 with 1 Axes>"
      ]
     },
     "metadata": {
      "needs_background": "light"
     },
     "output_type": "display_data"
    }
   ],
   "source": [
    "plt.scatter(zp, ks)\n",
    "plt.plot(zp, y_hat)\n",
    "plt.show()"
   ]
  },
  {
   "cell_type": "code",
   "execution_count": 319,
   "metadata": {},
   "outputs": [
    {
     "data": {
      "text/plain": [
       "56519.6"
      ]
     },
     "execution_count": 319,
     "metadata": {},
     "output_type": "execute_result"
    }
   ],
   "source": [
    "mse = middle_square_error(ks, y_hat)\n",
    "mse"
   ]
  },
  {
   "cell_type": "markdown",
   "metadata": {},
   "source": [
    "Задание 2.\n",
    "Посчитать коэффициент линейной регрессии при заработной плате (zp), используя градиентный спуск (без intercept)."
   ]
  },
  {
   "cell_type": "code",
   "execution_count": 320,
   "metadata": {},
   "outputs": [],
   "source": [
    "alfa = 1e-10\n",
    "b = 0.8"
   ]
  },
  {
   "cell_type": "code",
   "execution_count": 321,
   "metadata": {},
   "outputs": [
    {
     "name": "stdout",
     "output_type": "stream",
     "text": [
      "Iteration=0     b=0.8000939027080001     mse=21357.007059170774\n",
      "Iteration=100     b=0.8094764820080224     mse=19399.2747580297\n",
      "Iteration=200     b=0.818843847164252     mse=17538.582426098023\n",
      "Iteration=300     b=0.8281960228468963     mse=15774.468545386171\n",
      "Iteration=400     b=0.8375330336861582     mse=14106.473331895735\n",
      "Iteration=500     b=0.8468549042723023     mse=12534.138729613478\n",
      "Iteration=600     b=0.85616165915572     mse=11057.008404525957\n",
      "Iteration=700     b=0.8654533228469914     mse=9674.627738654426\n",
      "Iteration=800     b=0.8747299198169545     mse=8386.543824108627\n",
      "Iteration=900     b=0.8839914744967655     mse=7192.30545716177\n",
      "Iteration=1000     b=0.893238011277966     mse=6091.463132344404\n",
      "Iteration=1100     b=0.9024695545125441     mse=5083.569036558714\n",
      "Iteration=1200     b=0.911686128513001     mse=4168.177043211881\n",
      "Iteration=1300     b=0.920887757552416     mse=3344.8427063693357\n",
      "Iteration=1400     b=0.9300744658645074     mse=2613.123254927899\n",
      "Iteration=1500     b=0.9392462776436973     mse=1972.5775868079932\n",
      "Iteration=1600     b=0.9484032170451772     mse=1422.7662631653282\n",
      "Iteration=1700     b=0.957545308184971     mse=963.2515026221557\n",
      "Iteration=1800     b=0.9666725751399937     mse=593.5971755179469\n",
      "Iteration=1900     b=0.9757850419481224     mse=313.3687981787231\n",
      "Iteration=2000     b=0.984882732608255     mse=122.13352720620006\n",
      "Iteration=2100     b=0.9939656710803745     mse=19.46015378574262\n",
      "Iteration=2200     b=1.0030338812856123     mse=4.919098013451959\n",
      "Iteration=2300     b=1.0120873871063114     mse=78.08240324223853\n",
      "Iteration=2400     b=1.021126212386087     mse=238.5237304467877\n",
      "Iteration=2500     b=1.0301503809298909     mse=485.8183526073946\n",
      "Iteration=2600     b=1.0391599165040781     mse=819.543149112775\n",
      "Iteration=2700     b=1.048154842836462     mse=1239.2766001812697\n",
      "Iteration=2800     b=1.0571351836163834     mse=1744.5987813011864\n",
      "Iteration=2900     b=1.0661009624947668     mse=2335.0913576891844\n",
      "Iteration=3000     b=1.0750522030841891     mse=3010.3375787679274\n",
      "Iteration=3100     b=1.0839889289589364     mse=3769.9222726615008\n",
      "Iteration=3200     b=1.092911163655072     mse=4613.43184071014\n",
      "Iteration=3300     b=1.10181893067049     mse=5540.454252002056\n",
      "Iteration=3400     b=1.1107122534649836     mse=6550.579037924834\n",
      "Iteration=3500     b=1.1195911554603082     mse=7643.397286734898\n",
      "Iteration=3600     b=1.1284556600402347     mse=8818.50163814382\n",
      "Iteration=3700     b=1.1373057905506214     mse=10075.486277925103\n",
      "Iteration=3800     b=1.1461415702994675     mse=11413.946932536663\n",
      "Iteration=3900     b=1.1549630225569785     mse=12833.48086376301\n",
      "Iteration=4000     b=1.1637701705556287     mse=14333.686863375007\n",
      "Iteration=4100     b=1.1725630374902165     mse=15914.165247806295\n",
      "Iteration=4200     b=1.1813416465179305     mse=17574.51785284941\n",
      "Iteration=4300     b=1.1901060207584109     mse=19314.348028368982\n",
      "Iteration=4400     b=1.1988561832938054     mse=21133.26063303149\n",
      "Iteration=4500     b=1.207592157168837     mse=23030.86202905517\n",
      "Iteration=4600     b=1.2163139653908606     mse=25006.76007697515\n",
      "Iteration=4700     b=1.22502163092992     mse=27060.564130426377\n",
      "Iteration=4800     b=1.2337151767188166     mse=29191.885030946367\n",
      "Iteration=4900     b=1.242394625653162     mse=31400.335102791996\n",
      "Iteration=5000     b=1.2510600005914445     mse=33685.528147776866\n",
      "Iteration=5100     b=1.259711324355086     mse=36047.07944012367\n",
      "Iteration=5200     b=1.2683486197285037     mse=38484.605721335174\n",
      "Iteration=5300     b=1.2769719094591672     mse=40997.72519508101\n",
      "Iteration=5400     b=1.2855812162576605     mse=43586.057522103016\n",
      "Iteration=5500     b=1.294176562797743     mse=46249.22381513752\n",
      "Iteration=5600     b=1.3027579717164088     mse=48986.846633854264\n",
      "Iteration=5700     b=1.3113254656139433     mse=51798.549979811316\n",
      "Iteration=5800     b=1.3198790670539842     mse=54683.959291428306\n",
      "Iteration=5900     b=1.328418798563584     mse=57642.70143897722\n",
      "Iteration=6000     b=1.3369446826332667     mse=60674.404719587925\n",
      "Iteration=6100     b=1.3454567417170842     mse=63778.69885227057\n",
      "Iteration=6200     b=1.3539549982326817     mse=66955.21497295776\n",
      "Iteration=6300     b=1.362439474561351     mse=70203.58562955889\n",
      "Iteration=6400     b=1.3709101930480956     mse=73523.44477703588\n",
      "Iteration=6500     b=1.379367176001682     mse=76914.42777248997\n",
      "Iteration=6600     b=1.3878104456947051     mse=80376.1713702705\n",
      "Iteration=6700     b=1.396240024363642     mse=83908.31371709546\n",
      "Iteration=6800     b=1.4046559342089129     mse=87510.49434719174\n",
      "Iteration=6900     b=1.413058197394941     mse=91182.35417745076\n",
      "Iteration=7000     b=1.4214468360502077     mse=94923.53550259894\n",
      "Iteration=7100     b=1.4298218722673124     mse=98733.68199038607\n",
      "Iteration=7200     b=1.4381833281030318     mse=102612.43867678972\n",
      "Iteration=7300     b=1.4465312255783764     mse=106559.45196123465\n",
      "Iteration=7400     b=1.4548655866786493     mse=110574.36960182941\n",
      "Iteration=7500     b=1.4631864333535032     mse=114656.8407106178\n",
      "Iteration=7600     b=1.4714937875169964     mse=118806.51574884614\n",
      "Iteration=7700     b=1.479787671047657     mse=123023.04652225037\n",
      "Iteration=7800     b=1.4880681057885339     mse=127306.08617635258\n",
      "Iteration=7900     b=1.496335113547257     mse=131655.289191778\n",
      "Iteration=8000     b=1.5045887160960962     mse=136070.31137958707\n",
      "Iteration=8100     b=1.5128289351720148     mse=140550.80987662022\n",
      "Iteration=8200     b=1.5210557924767305     mse=145096.4431408628\n",
      "Iteration=8300     b=1.5292693096767709     mse=149706.87094682202\n",
      "Iteration=8400     b=1.5374695084035281     mse=154381.75438091983\n",
      "Iteration=8500     b=1.5456564102533237     mse=159120.75583690603\n",
      "Iteration=8600     b=1.5538300367874536     mse=163923.53901127653\n",
      "Iteration=8700     b=1.5619904095322545     mse=168789.7688987189\n",
      "Iteration=8800     b=1.5701375499791594     mse=173719.11178756648\n",
      "Iteration=8900     b=1.57827147958475     mse=178711.2352552673\n",
      "Iteration=9000     b=1.586392219770815     mse=183765.8081638707\n",
      "Iteration=9100     b=1.594499791924409     mse=188882.5006555296\n",
      "Iteration=9200     b=1.6025942173979035     mse=194060.98414801343\n",
      "Iteration=9300     b=1.6106755175090515     mse=199300.9313302449\n",
      "Iteration=9400     b=1.618743713541033     mse=204602.0161578391\n",
      "Iteration=9500     b=1.6267988267425217     mse=209963.91384867212\n",
      "Iteration=9600     b=1.6348408783277326     mse=215386.3008784508\n",
      "Iteration=9700     b=1.6428698894764817     mse=220868.85497630722\n",
      "Iteration=9800     b=1.6508858813342446     mse=226411.25512040601\n",
      "Iteration=9900     b=1.6588888750122028     mse=232013.18153355847\n"
     ]
    }
   ],
   "source": [
    "for i in range(10000):\n",
    "    b -= alfa * (2 / len(zp)) * np.sum((b * zp - ks) * ks)\n",
    "    mse = middle_square_error(ks, b * ks)\n",
    "    if i % 100 == 0:\n",
    "        print(f'Iteration={i}     b={b}     mse={mse}')"
   ]
  },
  {
   "cell_type": "markdown",
   "metadata": {},
   "source": [
    "На 2200-й итерации при b = 1.003 мы имеем наименьшую среднеквадратичную ошибку mse = 4.919."
   ]
  },
  {
   "cell_type": "code",
   "execution_count": 322,
   "metadata": {},
   "outputs": [],
   "source": [
    "b = 1.003"
   ]
  },
  {
   "cell_type": "code",
   "execution_count": 323,
   "metadata": {},
   "outputs": [
    {
     "data": {
      "text/plain": [
       "array([ 35.,  45., 191., 201.,  40.,  70.,  54., 150., 120., 110.])"
      ]
     },
     "execution_count": 323,
     "metadata": {},
     "output_type": "execute_result"
    }
   ],
   "source": [
    "y_hat = np.round(b * zp)\n",
    "y_hat"
   ]
  },
  {
   "cell_type": "code",
   "execution_count": 324,
   "metadata": {},
   "outputs": [
    {
     "data": {
      "image/png": "[encoded data removed]",
      "text/plain": [
       "<Figure size 432x288 with 1 Axes>"
      ]
     },
     "metadata": {
      "needs_background": "light"
     },
     "output_type": "display_data"
    }
   ],
   "source": [
    "plt.scatter(zp, ks)\n",
    "plt.plot(zp, y_hat)\n",
    "plt.show()"
   ]
  },
  {
   "cell_type": "code",
   "execution_count": 325,
   "metadata": {},
   "outputs": [
    {
     "data": {
      "text/plain": [
       "385639.7"
      ]
     },
     "execution_count": 325,
     "metadata": {},
     "output_type": "execute_result"
    }
   ],
   "source": [
    "mse = middle_square_error(ks, y_hat)\n",
    "mse"
   ]
  },
  {
   "cell_type": "markdown",
   "metadata": {},
   "source": [
    "Не понял я этого метода."
   ]
  }
 ],
 "metadata": {
  "kernelspec": {
   "display_name": "Python 3",
   "language": "python",
   "name": "python3"
  },
  "language_info": {
   "codemirror_mode": {
    "name": "ipython",
    "version": 3
   },
   "file_extension": ".py",
   "mimetype": "text/x-python",
   "name": "python",
   "nbconvert_exporter": "python",
   "pygments_lexer": "ipython3",
   "version": "3.8.3"
  }
 },
 "nbformat": 4,
 "nbformat_minor": 4
}
